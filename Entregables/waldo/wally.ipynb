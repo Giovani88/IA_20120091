{
 "cells": [
  {
   "cell_type": "markdown",
   "metadata": {},
   "source": [
    "## Importación de librerías"
   ]
  },
  {
   "cell_type": "code",
   "execution_count": null,
   "metadata": {},
   "outputs": [],
   "source": [
    "import os\n",
    "import cv2 as cv\n",
    "import numpy as np"
   ]
  },
  {
   "cell_type": "markdown",
   "metadata": {},
   "source": [
    "## Rotar imágenes"
   ]
  },
  {
   "cell_type": "code",
   "execution_count": null,
   "metadata": {},
   "outputs": [],
   "source": [
    "import datetime\n",
    "def rotar(img, i):\n",
    "    # Dimensiones deseadas de salida\n",
    "    salida_ancho = 50\n",
    "    salida_alto = 50\n",
    "    \n",
    "    # Crear una imagen de fondo blanco de 50x50 píxeles\n",
    "    fondo_blanco = np.ones((salida_alto, salida_ancho, 3), dtype=np.uint8) * 255\n",
    "    \n",
    "    # Redimensionar la imagen original para que quepa en el área de rotación\n",
    "    h, w = img.shape[:2]\n",
    "    escala = min(salida_ancho/w, salida_alto/h)\n",
    "    nueva_ancho = int(w * escala)\n",
    "    nueva_alto = int(h * escala)\n",
    "    img_redimensionada = cv.resize(img, (nueva_ancho, nueva_alto))\n",
    "    \n",
    "    # Calcular el centro de la imagen redimensionada y del fondo blanco\n",
    "    centro_imagen = (nueva_ancho // 2, nueva_alto // 2)\n",
    "    centro_fondo = (salida_ancho // 2, salida_alto // 2)\n",
    "    \n",
    "    # Crear la matriz de rotación\n",
    "    mw = cv.getRotationMatrix2D(centro_fondo, grados, 1)\n",
    "    \n",
    "    # Aplicar la rotación a la imagen redimensionada\n",
    "    img_rotada = cv.warpAffine(img_redimensionada, mw, (salida_ancho, salida_alto), borderValue=(255, 255, 255))\n",
    "\n",
    "    # Obtener el timestamp actual\n",
    "    timestamp = datetime.datetime.now().strftime(\"%Y%m%d_%H%M%S\")\n",
    "\n",
    "    # Guardar la imagen resultante\n",
    "    cv.imwrite(f'result/img_{i}_{timestamp}.png', img_rotada)\n"
   ]
  },
  {
   "cell_type": "code",
   "execution_count": null,
   "metadata": {},
   "outputs": [],
   "source": [
    "grados = 335\n",
    "i = 0\n",
    "imgPaths = 'generador/base - espejo'\n",
    "nomFiles = os.listdir(imgPaths)\n",
    "print(nomFiles)\n",
    "for nomFile in nomFiles:\n",
    "    i = i+1\n",
    "    imgPath=imgPaths+\"/\"+nomFile\n",
    "    img = cv.imread(imgPath)\n",
    "    rotar(img,i)    "
   ]
  },
  {
   "cell_type": "markdown",
   "metadata": {},
   "source": [
    "### Generar un espejo de imagen \n",
    "\n"
   ]
  },
  {
   "cell_type": "code",
   "execution_count": null,
   "metadata": {},
   "outputs": [],
   "source": [
    "import datetime\n",
    "def espejo(img, i):\n",
    "    # Crea una imagen espejo usando flip\n",
    "    img_espejo = cv.flip(img, 1)\n",
    "    # Guarda la imagen espejo\n",
    "\n",
    "    # Obtener el timestamp actual\n",
    "    timestamp = datetime.datetime.now().strftime(\"%Y%m%d_%H%M%S\")\n",
    "    cv.imwrite(f'result/img_{i}_{timestamp}.png', img_espejo)"
   ]
  },
  {
   "cell_type": "code",
   "execution_count": null,
   "metadata": {},
   "outputs": [],
   "source": [
    "i = 0\n",
    "imgPaths = 'generador/base'\n",
    "nomFiles = os.listdir(imgPaths)\n",
    "for nomFile in nomFiles:\n",
    "    i = i+1\n",
    "    imgPath=imgPaths+\"/\"+nomFile\n",
    "    img = cv.imread(imgPath)\n",
    "    espejo(img, i) "
   ]
  },
  {
   "cell_type": "markdown",
   "metadata": {},
   "source": [
    "## Imágenes a escala de grises"
   ]
  },
  {
   "cell_type": "code",
   "execution_count": null,
   "metadata": {},
   "outputs": [],
   "source": [
    "def convert_to_gray(img, i):\n",
    "    frame = cv.cvtColor(img, cv.COLOR_BGR2GRAY)    \n",
    "    cv.imwrite('dataset/n/wally'+str(i)+'.png', frame)"
   ]
  },
  {
   "cell_type": "code",
   "execution_count": null,
   "metadata": {},
   "outputs": [],
   "source": [
    "i = 0\n",
    "imgPaths = 'generador/waldo negativo gris'\n",
    "files = os.listdir(imgPaths)\n",
    "for file in files:\n",
    "    i = i+1\n",
    "    imgPath=imgPaths+\"/\"+file\n",
    "    img = cv.imread(imgPath)\n",
    "    convert_to_gray(img, i) "
   ]
  },
  {
   "cell_type": "markdown",
   "metadata": {},
   "source": [
    "### Generador de subimagenes"
   ]
  },
  {
   "cell_type": "code",
   "execution_count": null,
   "metadata": {},
   "outputs": [],
   "source": [
    "import cv2\n",
    "import os\n",
    "import datetime\n",
    "\n",
    "# Abre la imagen\n",
    "img = cv2.imread('generador/base negativo/base8.png')\n",
    "\n",
    "# Obtiene las dimensiones de la imagen\n",
    "height, width = img.shape[:2]\n",
    "\n",
    "# Define el tamaño de las sub-imágenes\n",
    "sub_width, sub_height = 50, 50\n",
    "\n",
    "# Crea el directorio de salida si no existe\n",
    "output_dir = 'result'\n",
    "if not os.path.exists(output_dir):\n",
    "    os.makedirs(output_dir)\n",
    "\n",
    "# Recorre la imagen creando las sub-imágenes\n",
    "i = 0\n",
    "for y in range(height-sub_height, -1, -sub_height):\n",
    "    for x in range(width-sub_width, -1, -sub_width):\n",
    "        # Crea la sub-imagen\n",
    "        sub_img = img[y:y+sub_height, x:x+sub_width]\n",
    "        # Guarda la sub-imagen\n",
    "\n",
    "        # Obtener el timestamp actual\n",
    "        timestamp = datetime.datetime.now().strftime(\"%Y%m%d_%H%M%S\")\n",
    "        cv2.imwrite(os.path.join(output_dir, f'notWally{i}_{timestamp}.png'), sub_img)\n",
    "        i += 1\n",
    "        # Si ya se han creado 350 sub-imágenes, termina el proceso        \n",
    "        if i >= 500:\n",
    "            break\n",
    "    if i >= 500:\n",
    "        break"
   ]
  },
  {
   "cell_type": "markdown",
   "metadata": {},
   "source": [
    "### Encontrar a Wally"
   ]
  },
  {
   "cell_type": "code",
   "execution_count": 49,
   "metadata": {},
   "outputs": [],
   "source": [
    "import numpy as np\n",
    "import cv2 as cv    \n",
    "import math\n",
    "\n",
    "wally = cv.CascadeClassifier('cascade_v1.xml')\n",
    "\n",
    "frame = cv.imread('assets/escenarios/escenario1b.png')\n",
    "\n",
    "gray = cv.cvtColor(frame, cv.COLOR_BGR2GRAY)\n",
    "\n",
    "wallys = wally.detectMultiScale(gray, 1.4, 52)\n",
    "\n",
    "for (x, y, w, h) in wallys:\n",
    "    frame = cv.rectangle(frame, (x,y), (x+w, y+h), (0, 255, 0), 2)\n",
    "\n",
    "cv.imshow('Wally', frame)\n",
    "\n",
    "cv.waitKey(0)\n",
    "cv.destroyAllWindows()"
   ]
  },
  {
   "cell_type": "code",
   "execution_count": null,
   "metadata": {},
   "outputs": [],
   "source": []
  }
 ],
 "metadata": {
  "kernelspec": {
   "display_name": "venv",
   "language": "python",
   "name": "python3"
  },
  "language_info": {
   "codemirror_mode": {
    "name": "ipython",
    "version": 3
   },
   "file_extension": ".py",
   "mimetype": "text/x-python",
   "name": "python",
   "nbconvert_exporter": "python",
   "pygments_lexer": "ipython3",
   "version": "3.10.7"
  }
 },
 "nbformat": 4,
 "nbformat_minor": 2
}
